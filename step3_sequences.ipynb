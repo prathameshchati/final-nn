{
 "cells": [
  {
   "cell_type": "markdown",
   "metadata": {},
   "source": [
    "## Step 3: make your classifier\n",
    "\n",
    "### Background\n",
    "\n",
    "Transcription factors are proteins that bind DNA at promoters to drive gene expression. Most preferentially bind to specific sequences while ignoring others. Traditional methods to determine these sequences (called motifs) have assumed that binding sites in the genome are all independent. However, in some cases people have identified motifs where positional interdependencies exist.\n",
    "\n",
    "### Your task\n",
    "\n",
    "You will implement a multi-layer fully connected neural network using your NeuralNetwork class to predict whether a short DNA sequence is a binding site for the yeast transcription factor Rap1. The training data is incredibly imbalanced, with way fewer positive sequences than negative sequences, so you will implement a sampling scheme to ensure that class imbalance does not affect training. As in step 2, all of the following work should be done in a Jupyter Notebook.\n",
    "\n",
    "### To-do\n",
    "\n",
    " - Use the read_text_file function from io.py to read in the 137 positive Rap1 motif examples.\n",
    " - Use the read_fasta_file function from io.py to read in all the negative examples. Note that these sequences are much longer than the positive sequences, so you will need to process them to the same length.\n",
    " - Balance your classes using your sample_seq function and explain why you chose the sampling scheme you did.\n",
    " - One-hot encode the data using your one_hot_encode_seqs function.\n",
    " - Split the data into training and validation sets.\n",
    " - Generate an instance of your NeuralNetwork class with an appropriate architecture.\n",
    " - Train your neural network on the training data.\n",
    " - Plot your training and validation loss by epoch.\n",
    " - Report the accuracy of your classifier on your validation dataset.\n",
    " - Explain your choice of loss function and hyperparameters."
   ]
  },
  {
   "cell_type": "markdown",
   "metadata": {},
   "source": [
    "#### Imports and helper functions"
   ]
  },
  {
   "cell_type": "code",
   "execution_count": 1,
   "metadata": {},
   "outputs": [
    {
     "name": "stderr",
     "output_type": "stream",
     "text": [
      "C:\\Users\\chati\\AppData\\Local\\Temp\\ipykernel_28100\\615010073.py:4: DeprecationWarning: \n",
      "Pyarrow will become a required dependency of pandas in the next major release of pandas (pandas 3.0),\n",
      "(to allow more performant data types, such as the Arrow string type, and better interoperability with other libraries)\n",
      "but was not found to be installed on your system.\n",
      "If this would cause problems for you,\n",
      "please provide us feedback at https://github.com/pandas-dev/pandas/issues/54466\n",
      "        \n",
      "  import pandas as pd\n"
     ]
    }
   ],
   "source": [
    "%load_ext autoreload\n",
    "%autoreload 2\n",
    "\n",
    "import pandas as pd\n",
    "import numpy as np\n",
    "import sklearn as sk\n",
    "from sklearn.datasets import load_digits\n",
    "from sklearn.model_selection import train_test_split\n",
    "from typing import List, Dict, Tuple, Union\n",
    "from numpy.typing import ArrayLike\n",
    "from nn import io\n",
    "import re\n",
    "from collections import Counter\n",
    "from nn.nn import NeuralNetwork\n",
    "import matplotlib.pyplot as plt\n",
    "import seaborn as sns\n",
    "import time\n",
    "from nn import preprocess"
   ]
  },
  {
   "cell_type": "code",
   "execution_count": 2,
   "metadata": {},
   "outputs": [],
   "source": [
    "# timing function\n",
    "def display_run_time(s,e,task):\n",
    "    rt=(e-s)\n",
    "    if rt>=60:\n",
    "        rt=rt/60\n",
    "        print(f\"{task}: {rt} m\")\n",
    "    else:\n",
    "        print(f\"{task}: {rt} s\")"
   ]
  },
  {
   "cell_type": "markdown",
   "metadata": {},
   "source": [
    "#### Load data"
   ]
  },
  {
   "cell_type": "code",
   "execution_count": 3,
   "metadata": {},
   "outputs": [],
   "source": [
    "# read txt file of sequences\n",
    "pos_seqs=io.read_text_file(\"./data/rap1-lieb-positives.txt\")\n",
    "neg_seqs=io.read_fasta_file(\"./data/yeast-upstream-1k-negative.fa\")"
   ]
  },
  {
   "cell_type": "markdown",
   "metadata": {},
   "source": [
    "#### Process negative sequences\n",
    "\n",
    "In order to process the longer negative sequences, we will take k-mers of each negative sequence with the _k_ set to the length of a positive sequence."
   ]
  },
  {
   "cell_type": "code",
   "execution_count": 4,
   "metadata": {},
   "outputs": [],
   "source": [
    "# split each negative sequence into kmers \n",
    "seq_length=len(pos_seqs[0])\n",
    "neg_seqs_kmers=[]\n",
    "for neg_seq in neg_seqs:\n",
    "    for idx, _ in enumerate(neg_seq):\n",
    "        neg_seq_kmer=neg_seq[idx:idx+seq_length]\n",
    "        if (len(neg_seq_kmer)==seq_length):\n",
    "            neg_seqs_kmers.append(neg_seq_kmer)\n",
    "        else:\n",
    "            break"
   ]
  },
  {
   "cell_type": "markdown",
   "metadata": {},
   "source": [
    "#### Get balanced samples and encode\n",
    "\n",
    "The sampling strategy takes all of the positive classes and randomly samples the same number of negative classes. A batch-like method can be employed to get an even distribution across all of the negative samples as well. "
   ]
  },
  {
   "cell_type": "code",
   "execution_count": 5,
   "metadata": {},
   "outputs": [
    {
     "name": "stdout",
     "output_type": "stream",
     "text": [
      "Sample label counts:  Counter({True: 137, False: 137})\n",
      "Sample seqs dimensions:  (274, 68)\n",
      "Sample label dimensions:  (274,)\n"
     ]
    }
   ],
   "source": [
    "# aggregate all seqs and labels and sample\n",
    "all_seqs=pos_seqs+neg_seqs_kmers\n",
    "all_labels=[True]*len(pos_seqs)+[False]*len(neg_seqs_kmers)\n",
    "sampled_seqs, sampled_labels=preprocess.sample_seqs(all_seqs, all_labels)\n",
    "\n",
    "# print classes\n",
    "print(\"Sample label counts: \", Counter(sampled_labels))\n",
    "\n",
    "# encode seqs\n",
    "sampled_seqs_encoded=preprocess.one_hot_encode_seqs(sampled_seqs)\n",
    "\n",
    "# convert to arrays\n",
    "sampled_seqs_encoded=np.array(sampled_seqs_encoded)\n",
    "sampled_labels=np.array(sampled_labels)\n",
    "\n",
    "# print dimensions\n",
    "print(\"Sample seqs dimensions: \", sampled_seqs_encoded.shape)\n",
    "print(\"Sample label dimensions: \", sampled_labels.shape)"
   ]
  },
  {
   "cell_type": "markdown",
   "metadata": {},
   "source": [
    "#### Initialize NN and split data for training/validation"
   ]
  },
  {
   "cell_type": "code",
   "execution_count": 6,
   "metadata": {},
   "outputs": [],
   "source": [
    "# initialize neural network and set hyperparameters\n",
    "nn_arch = [\n",
    "    {\"input_dim\": 68, \"output_dim\": 136, \"activation\": \"relu\"},\n",
    "    {\"input_dim\": 136, \"output_dim\": 136, \"activation\": \"relu\"},\n",
    "    {\"input_dim\": 136, \"output_dim\": 136, \"activation\": \"relu\"},\n",
    "    {\"input_dim\": 136, \"output_dim\": 68, \"activation\": \"relu\"},\n",
    "    {\"input_dim\": 68, \"output_dim\": 34, \"activation\": \"relu\"},\n",
    "    {\"input_dim\": 34, \"output_dim\": 1, \"activation\": \"sigmoid\"},\n",
    "]\n",
    "\n",
    "\n",
    "lr=0.1\n",
    "seed=5348\n",
    "batch_size=35\n",
    "epochs=1000\n",
    "loss_function='bce'\n",
    "nn=NeuralNetwork(nn_arch, lr=lr, seed=seed, batch_size=batch_size, epochs=epochs, loss_function=loss_function) # loss function can be mse or bce"
   ]
  },
  {
   "cell_type": "code",
   "execution_count": 7,
   "metadata": {},
   "outputs": [
    {
     "name": "stdout",
     "output_type": "stream",
     "text": [
      "X_train dimensions:  (191, 68)\n",
      "X_val dimensions:  (83, 68)\n"
     ]
    }
   ],
   "source": [
    "# get training and validation sets, the sample_seqs_encoded are initially batches along the rows and features along the columns\n",
    "X_train, X_val, y_train, y_val=train_test_split(sampled_seqs_encoded, sampled_labels, test_size=0.3, random_state=354)\n",
    "\n",
    "# print dimensions\n",
    "print(\"X_train dimensions: \", X_train.shape)\n",
    "print(\"X_val dimensions: \", X_val.shape)"
   ]
  },
  {
   "cell_type": "markdown",
   "metadata": {},
   "source": [
    "#### Train model and get the loss history"
   ]
  },
  {
   "cell_type": "code",
   "execution_count": 8,
   "metadata": {},
   "outputs": [
    {
     "name": "stdout",
     "output_type": "stream",
     "text": [
      "Training NN RT (lr: 0.1, batch_size: 35, epochs: 1000, loss_function: bce: 28.484636783599854 s\n"
     ]
    }
   ],
   "source": [
    "# train the model\n",
    "start_time=time.time()\n",
    "per_epoch_loss_train, per_epoch_loss_val=nn.fit(X_train, y_train, X_val, y_val)\n",
    "end_time=time.time()\n",
    "display_run_time(start_time,end_time,f\"Training NN RT (lr: {lr}, batch_size: {batch_size}, epochs: {epochs}, loss_function: {loss_function}\")"
   ]
  },
  {
   "cell_type": "code",
   "execution_count": 9,
   "metadata": {},
   "outputs": [],
   "source": [
    "# create loss dataframe\n",
    "loss_data_df=pd.DataFrame(data=[per_epoch_loss_train, per_epoch_loss_val]).T.reset_index()\n",
    "loss_data_df.columns=[\"epoch\", \"per_epoch_loss_train\", \"per_epoch_loss_val\"]"
   ]
  },
  {
   "cell_type": "markdown",
   "metadata": {},
   "source": [
    "#### Plot loss history"
   ]
  },
  {
   "cell_type": "code",
   "execution_count": 10,
   "metadata": {},
   "outputs": [
    {
     "data": {
      "image/png": "[encoded data removed]",
      "text/plain": [
       "<Figure size 1500x500 with 1 Axes>"
      ]
     },
     "metadata": {},
     "output_type": "display_data"
    }
   ],
   "source": [
    "# plot loss\n",
    "plt.rcParams[\"figure.figsize\"] = (15,5)\n",
    "sns.lineplot(data=loss_data_df, x=\"epoch\", y=\"per_epoch_loss_train\", label=\"Train Loss\", color='blue')\n",
    "sns.lineplot(data=loss_data_df, x=\"epoch\", y=\"per_epoch_loss_val\", label=\"Val. Loss\", color='red')\n",
    "plt.title(f\"Training v. Validation Loss\", weight='bold', fontsize='20')\n",
    "plt.suptitle(f\"lr: {lr}, batch_size: {batch_size}, epochs: {epochs}, loss_function: {loss_function}\", fontsize=12, y=0.85)\n",
    "plt.xlabel(\"Epoch\", weight='bold', fontsize='12')\n",
    "plt.ylabel(\"Loss\", weight='bold', fontsize='12')\n",
    "plt.show()\n"
   ]
  },
  {
   "cell_type": "markdown",
   "metadata": {},
   "source": [
    "#### Average accuracy on validation set\n",
    "\n",
    "Use the validation set (X_val) to predict the outputs. Compare the outputs to the y_val actual. "
   ]
  },
  {
   "cell_type": "code",
   "execution_count": 18,
   "metadata": {},
   "outputs": [],
   "source": [
    "# predict X_val\n",
    "y_hat=nn.predict(X_val)\n",
    "y_hat=y_hat.ravel()\n",
    "\n",
    "# convert to true or false based on 0.5 threshold\n",
    "y_hat_bin=[]\n",
    "for var in y_hat:\n",
    "    if (var>=0.5):\n",
    "        y_hat_bin.append(True)\n",
    "    else: \n",
    "        y_hat_bin.append(False)"
   ]
  },
  {
   "cell_type": "code",
   "execution_count": 21,
   "metadata": {},
   "outputs": [
    {
     "name": "stdout",
     "output_type": "stream",
     "text": [
      "Classification accuracy on validation set:  0.9879518072289156\n",
      "Average loss over the validation set:  0.03370273684518522\n"
     ]
    }
   ],
   "source": [
    "# compute accuracy\n",
    "num_match=0\n",
    "for pred, obs in zip(y_hat_bin, y_val):\n",
    "    if (pred==obs):\n",
    "        num_match+=1 \n",
    "\n",
    "print(\"Classification accuracy on validation set: \", num_match/len(y_val))\n",
    "print(\"Average loss over the validation set: \", np.mean(per_epoch_loss_val))\n"
   ]
  },
  {
   "cell_type": "markdown",
   "metadata": {},
   "source": [
    "#### Hyperparameter selection\n",
    "\n",
    "##### Architecture\n",
    "\n",
    " - The first layer represents the size of the encoded sequences (a binary string of length 4, per base pair).\n",
    " - For the middle layers, I started small by just doubling the first layer size until I was able to achieve a stronger classification output. \n",
    " - For the final layer, I gradually filtered the results down to a single output node since the class labels are binary. I made the layers gradually smaller to provide more flexibility for predictions. \n",
    "\n",
    "##### Activation functions\n",
    "\n",
    " - For all of the layers beside the final layer, I used the ReLU activation function since it is unbounded and helps with the vanishing gradient challenge in larger neural networks. The vanishing gradient problem arises due to larger architectures and is a direct result of the chain rule when backpropagating. As you begin to go further back into the network, the gradient naturally gets \n",
    " smaller. The ReLU can resolve this issue to some extent for larger architectures. \n",
    " - For the final layer, I used a sigmoid function since it is bounded and representative of probabilities for the final prediction. \n",
    "\n",
    "##### Batch size, learning rate, and epoch\n",
    "\n",
    " - I varied the batch size and learning rate until I found a set that provided the smoothest descent and achieved the minimal training and validation loss.\n",
    " - I used a high enough epoch to see the training and validation losses level out but did not train past a certain epoch if the two losses diverged. \n",
    "\n",
    "##### Loss function\n",
    "\n",
    " - Since our outputs are binary, the binary cross entropy function was the intuitive choice here. "
   ]
  },
  {
   "cell_type": "markdown",
   "metadata": {},
   "source": []
  }
 ],
 "metadata": {
  "kernelspec": {
   "display_name": "Python 3",
   "language": "python",
   "name": "python3"
  },
  "language_info": {
   "codemirror_mode": {
    "name": "ipython",
    "version": 3
   },
   "file_extension": ".py",
   "mimetype": "text/x-python",
   "name": "python",
   "nbconvert_exporter": "python",
   "pygments_lexer": "ipython3",
   "version": "3.10.1"
  }
 },
 "nbformat": 4,
 "nbformat_minor": 2
}
