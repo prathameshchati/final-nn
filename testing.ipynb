{
 "cells": [
  {
   "cell_type": "code",
   "execution_count": 19,
   "metadata": {},
   "outputs": [],
   "source": [
    "from typing import List\n",
    "import pandas as pd\n",
    "import sklearn as sk\n",
    "import numpy as np\n",
    "from typing import List, Dict, Tuple, Union\n",
    "from numpy.typing import ArrayLike\n",
    "from nn import io\n",
    "import re"
   ]
  },
  {
   "cell_type": "code",
   "execution_count": 4,
   "metadata": {},
   "outputs": [],
   "source": [
    "# read txt file of sequences\n",
    "seqs=io.read_text_file(\"./data/rap1-lieb-positives.txt\")"
   ]
  },
  {
   "cell_type": "code",
   "execution_count": 18,
   "metadata": {},
   "outputs": [],
   "source": [
    "# encode\n",
    "\n",
    "\"\"\"\n",
    "encodings for base pairs\n",
    "\n",
    "A -> [1, 0, 0, 0]\n",
    "T -> [0, 1, 0, 0]\n",
    "C -> [0, 0, 1, 0]\n",
    "G -> [0, 0, 0, 1]\n",
    "\"\"\"\n",
    "def one_hot_encode_seqs(seq_arr):\n",
    "    # define encodings # https://stackoverflow.com/questions/6116978/how-to-replace-multiple-substrings-of-a-string\n",
    "    encodings={'A':'1000', 'T':'0100', 'C':'0010', 'G':'0001'}\n",
    "    encodings=dict((re.escape(k), v) for k, v in encodings.items()) \n",
    "    pattern=re.compile(\"|\".join(encodings.keys()))\n",
    "\n",
    "    # encode over loop and store in new list; goal is to replace each base pair with a binary string then convert the entire binary string to a list to create the encodings\n",
    "    encoded_seq_arr=[]\n",
    "    for seq in seq_arr:\n",
    "        alt_seq=pattern.sub(lambda bp: encodings[re.escape(bp.group(0))], seq)\n",
    "        alt_seq=list(alt_seq)\n",
    "        encoded_seq_arr.append(alt_seq)\n",
    "\n",
    "    return encoded_seq_arr"
   ]
  },
  {
   "cell_type": "code",
   "execution_count": 21,
   "metadata": {},
   "outputs": [],
   "source": [
    "# architecture and nn initialization\n",
    "nn_arch=[{'input_dim': 64, 'output_dim': 32, 'activation': 'relu'}, {'input_dim': 32, 'output_dim': 8, 'activation:': 'sigmoid'}]\n",
    "\n",
    "# Seed NumPy\n",
    "seed=10\n",
    "np.random.seed(seed)\n",
    "\n",
    "# Define parameter dictionary\n",
    "param_dict = {}\n",
    "\n",
    "# Initialize each layer's weight matrices (W) and bias matrices (b)\n",
    "for idx, layer in enumerate(nn_arch):\n",
    "    layer_idx = idx + 1\n",
    "    input_dim = layer['input_dim']\n",
    "    output_dim = layer['output_dim']\n",
    "    param_dict['W' + str(layer_idx)] = np.random.randn(output_dim, input_dim) * 0.1\n",
    "    param_dict['b' + str(layer_idx)] = np.random.randn(output_dim, 1) * 0.1\n",
    "\n",
    "# returns param_dict"
   ]
  },
  {
   "cell_type": "code",
   "execution_count": 38,
   "metadata": {},
   "outputs": [],
   "source": [
    "# activation functions\n",
    "def _sigmoid(Z):\n",
    "    return 1/(1+np.exp(-Z))\n",
    "\n",
    "def _relu(Z):\n",
    "    # https://www.digitalocean.com/community/tutorials/relu-function-in-python\n",
    "    return np.array([max(0.0, z) for z in Z])"
   ]
  },
  {
   "cell_type": "code",
   "execution_count": 40,
   "metadata": {},
   "outputs": [],
   "source": [
    "# single forward pass private method\n",
    "def _single_forward(W_curr, b_curr, A_prev, activation=None):\n",
    "    A_curr=np.dot(W_curr, A_prev)+b_curr\n",
    "\n",
    "    # pass through activation function\n",
    "    if (activation=='sigmoid'):\n",
    "        Z_curr=_sigmoid(A_curr)\n",
    "    elif (activation=='relu'):\n",
    "        Z_curr=_relu(A_curr)\n",
    "\n",
    "    return A_curr, Z_curr\n"
   ]
  },
  {
   "cell_type": "code",
   "execution_count": 42,
   "metadata": {},
   "outputs": [
    {
     "name": "stdout",
     "output_type": "stream",
     "text": [
      "0 {'input_dim': 64, 'output_dim': 32, 'activation': 'relu'}\n",
      "1 {'input_dim': 32, 'output_dim': 8, 'activation:': 'sigmoid'}\n"
     ]
    }
   ],
   "source": [
    "for idx, layer in enumerate(nn_arch):\n",
    "    print(idx, layer)"
   ]
  },
  {
   "cell_type": "code",
   "execution_count": 25,
   "metadata": {},
   "outputs": [
    {
     "data": {
      "text/plain": [
       "(32, 64)"
      ]
     },
     "execution_count": 25,
     "metadata": {},
     "output_type": "execute_result"
    }
   ],
   "source": [
    "param_dict['W1'].shape"
   ]
  },
  {
   "cell_type": "code",
   "execution_count": 26,
   "metadata": {},
   "outputs": [
    {
     "data": {
      "text/plain": [
       "(32, 1)"
      ]
     },
     "execution_count": 26,
     "metadata": {},
     "output_type": "execute_result"
    }
   ],
   "source": [
    "param_dict['b1'].shape"
   ]
  },
  {
   "cell_type": "code",
   "execution_count": 37,
   "metadata": {},
   "outputs": [
    {
     "data": {
      "text/plain": [
       "array([0. , 0.1])"
      ]
     },
     "execution_count": 37,
     "metadata": {},
     "output_type": "execute_result"
    }
   ],
   "source": [
    "Z=np.array([-0.1, 0.1])\n",
    "np.array([max(0.0, z) for z in Z])"
   ]
  },
  {
   "cell_type": "code",
   "execution_count": 27,
   "metadata": {},
   "outputs": [],
   "source": [
    "W_t=np.array([[2,3], [3,4]])\n",
    "b_t=np.array([5,6])\n",
    "A_t=np.array([7,8])"
   ]
  },
  {
   "cell_type": "code",
   "execution_count": 31,
   "metadata": {},
   "outputs": [],
   "source": [
    "A_c_t=np.dot(W_t, A_t)+b_t\n",
    "\n",
    "A_c_t_s=1/(1+np.exp(-A_c_t))"
   ]
  },
  {
   "cell_type": "code",
   "execution_count": 33,
   "metadata": {},
   "outputs": [
    {
     "data": {
      "text/plain": [
       "array([43, 59])"
      ]
     },
     "execution_count": 33,
     "metadata": {},
     "output_type": "execute_result"
    }
   ],
   "source": [
    "A_c_t_s\n",
    "A_c_t"
   ]
  },
  {
   "cell_type": "code",
   "execution_count": 34,
   "metadata": {},
   "outputs": [
    {
     "data": {
      "text/plain": [
       "1.0"
      ]
     },
     "execution_count": 34,
     "metadata": {},
     "output_type": "execute_result"
    }
   ],
   "source": [
    "1/(1+np.exp(-43))"
   ]
  },
  {
   "cell_type": "code",
   "execution_count": null,
   "metadata": {},
   "outputs": [],
   "source": []
  }
 ],
 "metadata": {
  "kernelspec": {
   "display_name": "Python 3",
   "language": "python",
   "name": "python3"
  },
  "language_info": {
   "codemirror_mode": {
    "name": "ipython",
    "version": 3
   },
   "file_extension": ".py",
   "mimetype": "text/x-python",
   "name": "python",
   "nbconvert_exporter": "python",
   "pygments_lexer": "ipython3",
   "version": "3.10.1"
  }
 },
 "nbformat": 4,
 "nbformat_minor": 2
}
