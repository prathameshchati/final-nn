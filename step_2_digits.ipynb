{
 "cells": [
  {
   "cell_type": "markdown",
   "metadata": {},
   "source": [
    "## Step 2: make your autoencoder\n",
    "\n",
    "### Background\n",
    "An autoencoder is a neural network that takes an input, encodes it into a lower-dimensional latent space through \"encoding\" layers, and then attempts to reconstruct the original input using \"decoding\" layers. Autoencoders are often used for dimensionality reduction.\n",
    "\n",
    "### Your task\n",
    "You will train a 64x16x64 autoencoder on the digits dataset. All of the following work should be done in a Jupyter Notebook.\n",
    "\n",
    "### To-do\n",
    " - Load the digits dataset through sklearn using sklearn.datasets.load_digits().\n",
    " - Split the data into training and validation sets.\n",
    " - Generate an instance of your NeuralNetwork class with a 64x16x64 autoencoder architecture.\n",
    " - Train your autoencoder on the training data.\n",
    " - Plot your training and validation loss by epoch.\n",
    " - Quantify your average reconstruction error over the validation set.\n",
    " - Explain why you chose the hyperparameter values you did.\n"
   ]
  },
  {
   "cell_type": "code",
   "execution_count": 4,
   "metadata": {},
   "outputs": [],
   "source": [
    "import pandas as pd\n",
    "import numpy as numpy\n",
    "import sklearn as sk\n",
    "from sklearn.datasets import load_digits\n",
    "from typing import List, Dict, Tuple, Union\n",
    "from numpy.typing import ArrayLike\n",
    "from nn import io\n",
    "import re"
   ]
  },
  {
   "cell_type": "code",
   "execution_count": 9,
   "metadata": {},
   "outputs": [
    {
     "name": "stdout",
     "output_type": "stream",
     "text": [
      "Data dimensions:  (1797, 64)\n",
      "Number of samples:  1797\n"
     ]
    }
   ],
   "source": [
    "# import digits library\n",
    "digits=load_digits()\n",
    "\n",
    "# get data (normalize with max value such that values range from 0 to 1) and the values\n",
    "digits_data=digits['data']\n",
    "digits_data=digits_data/digits_data.max()\n",
    "digits_target=digits['target']\n",
    "\n",
    "# print data info\n",
    "print(\"Data dimensions: \", digits_data.shape)\n",
    "print(\"Number of samples: \", len(digits_target))"
   ]
  },
  {
   "cell_type": "code",
   "execution_count": 12,
   "metadata": {},
   "outputs": [
    {
     "data": {
      "text/plain": [
       "16.0"
      ]
     },
     "execution_count": 12,
     "metadata": {},
     "output_type": "execute_result"
    }
   ],
   "source": []
  },
  {
   "cell_type": "code",
   "execution_count": null,
   "metadata": {},
   "outputs": [],
   "source": []
  }
 ],
 "metadata": {
  "kernelspec": {
   "display_name": "Python 3",
   "language": "python",
   "name": "python3"
  },
  "language_info": {
   "codemirror_mode": {
    "name": "ipython",
    "version": 3
   },
   "file_extension": ".py",
   "mimetype": "text/x-python",
   "name": "python",
   "nbconvert_exporter": "python",
   "pygments_lexer": "ipython3",
   "version": "3.10.1"
  }
 },
 "nbformat": 4,
 "nbformat_minor": 2
}
